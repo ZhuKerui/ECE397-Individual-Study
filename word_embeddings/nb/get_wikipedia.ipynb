{
 "metadata": {
  "language_info": {
   "codemirror_mode": {
    "name": "ipython",
    "version": 3
   },
   "file_extension": ".py",
   "mimetype": "text/x-python",
   "name": "python",
   "nbconvert_exporter": "python",
   "pygments_lexer": "ipython3",
   "version": "3.6.9"
  },
  "orig_nbformat": 2,
  "kernelspec": {
   "name": "python369jvsc74a57bd0947ccf1d8baae4b0b3c7136017192ad9c9ad48a2268b8759d45f6c7f995c7f83",
   "display_name": "Python 3.6.9 64-bit ('imojie_env': virtualenvwrapper)",
   "language": "python"
  }
 },
 "nbformat": 4,
 "nbformat_minor": 2,
 "cells": [
  {
   "cell_type": "code",
   "execution_count": 1,
   "metadata": {
    "tags": []
   },
   "outputs": [],
   "source": [
    "import wikipedia\n",
    "import sys\n",
    "\n",
    "sys.path.append('..')\n",
    "from my_util import *\n",
    "from my_multithread import MultiThreading"
   ]
  },
  {
   "cell_type": "code",
   "execution_count": 2,
   "metadata": {},
   "outputs": [],
   "source": [
    "# Collect wiki summary and process the text\n",
    "def get_wiki_summary_from_kw(line:str):\n",
    "    try:\n",
    "        page = wikipedia.page(line)\n",
    "        # if line.lower() == page.title.lower():\n",
    "        #     return ' '.join(page.summary.split())\n",
    "        return ' '.join(page.summary.split())\n",
    "    except:\n",
    "        return None\n",
    "\n",
    "def get_wiki_context_from_kw(line:str):\n",
    "    try:\n",
    "        page = wikipedia.page(line)\n",
    "        # if line.lower() == page.title.lower():\n",
    "        #     return ' '.join(page.content.split())\n",
    "        return ' '.join(page.content.split())\n",
    "    except:\n",
    "        return None"
   ]
  },
  {
   "source": [
    "Below is for temperary usage"
   ],
   "cell_type": "markdown",
   "metadata": {}
  },
  {
   "cell_type": "code",
   "execution_count": null,
   "metadata": {
    "tags": []
   },
   "outputs": [],
   "source": [
    "target_kws = my_read('../data/corpus/keyword_f.txt')[:1000]\n",
    "multithreading = MultiThreading()\n",
    "data = multithreading.run(get_wiki_summary_from_kw, target_kws, 10)\n",
    "my_write('wiki_summary.txt', data)\n",
    "\n",
    "!bash ../sh/remove_parens.sh wiki_summary.txt wiki_summary_f.txt\n",
    "\n",
    "!python ../my_sent_tokenize.py wiki_summary_f.txt wiki_summary_sents.txt"
   ]
  },
  {
   "cell_type": "code",
   "execution_count": 13,
   "metadata": {},
   "outputs": [],
   "source": [
    "# Collect content from wikipedia page for openie task\n",
    "\n",
    "# keywords = ['data structure', 'binary tree', 'hash table', 'linked list']\n",
    "keywords = ['programming language', 'python (programming language)', 'java language', 'javascript', 'lua language', 'scala language', 'lisp language', 'php language', 'ruby language', 'smalltalk (programming language)']\n",
    "text = []\n",
    "for kw in keywords:\n",
    "    ret = get_wiki_context_from_kw(kw)\n",
    "    if ret:\n",
    "        text.append(ret)\n",
    "my_write('wiki.txt', text)\n",
    "\n",
    "!bash ../sh/clean_corpus.sh wiki.txt wiki_f.txt\n",
    "!python ../my_sent_tokenize.py wiki_f.txt wiki_sent_temp.txt\n",
    "!bash ../sh/clean_wiki_corpus.sh wiki_sent_temp.txt pl_wiki_sents.txt\n",
    "!bash ../sh/clean_openie_corpus.sh pl_wiki_sents.txt\n",
    "\n",
    "!rm wiki.txt wiki_f.txt wiki_sent_temp.txt"
   ]
  },
  {
   "cell_type": "code",
   "execution_count": 11,
   "metadata": {},
   "outputs": [
    {
     "output_type": "execute_result",
     "data": {
      "text/plain": [
       "'Smalltalk is an object-oriented, dynamically typed reflective programming language. Smalltalk was created as the language underpinning the \"new world\" of computing exemplified by \"human–computer symbiosis\". It was designed and created in part for educational use, specifically for constructionist learning, at the Learning Research Group (LRG) of Xerox PARC by Alan Kay, Dan Ingalls, Adele Goldberg, Ted Kaehler, Diana Merry, Scott Wallace, and others during the 1970s. The language was first generally released as Smalltalk-80. Smalltalk-like languages are in active development and have gathered loyal communities of users around them. ANSI Smalltalk was ratified in 1998 and represents the standard version of Smalltalk.Smalltalk took second place for \"most loved programming language\" in the Stack Overflow Developer Survey in 2017, but it was not among the 26 most loved programming languages of the 2018 survey.'"
      ]
     },
     "metadata": {},
     "execution_count": 11
    }
   ],
   "source": [
    "get_wiki_summary_from_kw('smalltalk (programming language)')"
   ]
  }
 ]
}