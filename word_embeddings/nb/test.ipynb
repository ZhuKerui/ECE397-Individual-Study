{
 "metadata": {
  "language_info": {
   "codemirror_mode": {
    "name": "ipython",
    "version": 3
   },
   "file_extension": ".py",
   "mimetype": "text/x-python",
   "name": "python",
   "nbconvert_exporter": "python",
   "pygments_lexer": "ipython3",
   "version": "3.8.5"
  },
  "orig_nbformat": 2,
  "kernelspec": {
   "name": "python385jvsc74a57bd0deb8f65d1a97596c12c709393f11e0b5b828633bf442bcc167234260ecd4be3a",
   "display_name": "Python 3.8.5 64-bit ('temp': virtualenvwrapper)"
  },
  "metadata": {
   "interpreter": {
    "hash": "deb8f65d1a97596c12c709393f11e0b5b828633bf442bcc167234260ecd4be3a"
   }
  }
 },
 "nbformat": 4,
 "nbformat_minor": 2,
 "cells": [
  {
   "cell_type": "code",
   "execution_count": 1,
   "metadata": {},
   "outputs": [],
   "source": [
    "import spacy\n",
    "from spacy import displacy\n",
    "from tabulate import tabulate\n",
    "import numpy as np\n",
    "nlp = spacy.load('en_core_web_sm')\n",
    "from typing import List\n",
    "import sys\n",
    "sys.path.append('..')\n",
    "from tools.TextProcessing import sent_lemmatize"
   ]
  },
  {
   "cell_type": "code",
   "execution_count": null,
   "metadata": {},
   "outputs": [],
   "source": [
    "doc = nlp('this paper proposes a hybrid symbolic - numeric framework , exemplified by an open - source python - based library andes , which consists of a symbolic layer for descriptive modeling and a numeric layer for vector - based numerical computation .')\n",
    "entity_types = ((ent.text, ent.label_) for ent in doc.ents)\n",
    "print(tabulate(entity_types, headers=['Entity', 'Entity Type']))\n",
    "# displacy.serve(doc, style='dep')\n"
   ]
  },
  {
   "cell_type": "code",
   "execution_count": 2,
   "metadata": {},
   "outputs": [],
   "source": []
  },
  {
   "cell_type": "code",
   "execution_count": 4,
   "metadata": {},
   "outputs": [],
   "source": [
    "test_sent = reform_sent('python , a prominent computer language , has emerged as a language of choice for many research and engineering purpose .', ['python', 'computer language'])"
   ]
  },
  {
   "cell_type": "code",
   "execution_count": 11,
   "metadata": {},
   "outputs": [
    {
     "output_type": "execute_result",
     "data": {
      "text/plain": [
       "'python , a prominent computer_language , has emerged as a language of choice for many research and engineering purpose .'"
      ]
     },
     "metadata": {},
     "execution_count": 11
    }
   ],
   "source": [
    "test_sent"
   ]
  },
  {
   "cell_type": "code",
   "execution_count": 6,
   "metadata": {},
   "outputs": [
    {
     "output_type": "execute_result",
     "data": {
      "text/plain": [
       "'appos'"
      ]
     },
     "metadata": {},
     "execution_count": 6
    }
   ],
   "source": [
    "find_dependency_path(test_sent, 'python', 'computer_language')"
   ]
  }
 ]
}