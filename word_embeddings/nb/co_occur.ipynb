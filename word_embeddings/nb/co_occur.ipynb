{
 "metadata": {
  "language_info": {
   "codemirror_mode": {
    "name": "ipython",
    "version": 3
   },
   "file_extension": ".py",
   "mimetype": "text/x-python",
   "name": "python",
   "nbconvert_exporter": "python",
   "pygments_lexer": "ipython3",
   "version": "3.6.9"
  },
  "orig_nbformat": 2,
  "kernelspec": {
   "name": "python369jvsc74a57bd0947ccf1d8baae4b0b3c7136017192ad9c9ad48a2268b8759d45f6c7f995c7f83",
   "display_name": "Python 3.6.9 64-bit ('imojie_env': virtualenvwrapper)"
  }
 },
 "nbformat": 4,
 "nbformat_minor": 2,
 "cells": [
  {
   "cell_type": "code",
   "execution_count": null,
   "metadata": {},
   "outputs": [],
   "source": [
    "import sys\n",
    "\n",
    "sys.path.append('..')\n",
    "from my_util import my_read, my_write, MultiProcessing\n",
    "from my_occurance import Occurance, occurance_dump, occurance_load, occurance_post_operation"
   ]
  },
  {
   "cell_type": "code",
   "execution_count": null,
   "metadata": {},
   "outputs": [],
   "source": [
    "# Generate sentence file with line number\n",
    "!grep -n '' ../data/corpus/small_sent.txt > ../data/corpus/small_sent_line.txt"
   ]
  },
  {
   "cell_type": "code",
   "execution_count": null,
   "metadata": {},
   "outputs": [],
   "source": [
    "# Generate occurance file\n",
    "# To run the code in the backend, use the gen_occur.py in the \"py\" folder\n",
    "p = MultiProcessing()\n",
    "occur_dict = p.run(lambda: Occurance('../data/corpus/wordtree.json', '../data/corpus/keyword_f.txt'), open('../data/corpus/small_sent_line.txt').readlines(), 8, occurance_post_operation)\n",
    "occurance_dump('../data/corpus/occur.json', occur_dict)"
   ]
  },
  {
   "cell_type": "code",
   "execution_count": null,
   "metadata": {},
   "outputs": [],
   "source": [
    "# Remove the indexed file to avoid confusion\n",
    "!rm ../data/corpus/small_sent_line.txt"
   ]
  },
  {
   "cell_type": "code",
   "execution_count": null,
   "metadata": {},
   "outputs": [],
   "source": [
    "# Load sentence file and occurance file\n",
    "sent_list = my_read('../data/corpus/small_sent.txt')\n",
    "occur_dict = {line.split(':')[0] : set(map(int, line.split(':')[1].split())) for line in open('../data/corpus/occur.txt', 'r').read().split('\\n')}"
   ]
  },
  {
   "source": [
    "Play around in the below"
   ],
   "cell_type": "markdown",
   "metadata": {}
  },
  {
   "cell_type": "code",
   "execution_count": null,
   "metadata": {},
   "outputs": [],
   "source": [
    "test_data = my_read('../data/test/co_occur_test.txt')\n",
    "test_data = [data.split(',') for data in test_data]\n",
    "test_dict = {data[0] : data[1:] for data in test_data}"
   ]
  },
  {
   "cell_type": "code",
   "execution_count": null,
   "metadata": {},
   "outputs": [],
   "source": [
    "test_sent_dict = {central_kw : set() for central_kw in test_dict}\n",
    "for central_kw, kws in test_dict.items():\n",
    "    for kw in kws:\n",
    "        test_sent_dict[central_kw] |= occur_dict[kw]\n",
    "    test_sent_dict[central_kw] &= occur_dict[central_kw]\n",
    "\n",
    "for central_kw, sents in test_sent_dict.items():\n",
    "    content = [sent_list[i] for i in sents]\n",
    "    my_write('../data/temp/%s_wiki.txt' % central_kw.replace(' ', '_'), content)"
   ]
  },
  {
   "cell_type": "code",
   "execution_count": null,
   "metadata": {},
   "outputs": [],
   "source": [
    "test_lines = occur_dict['python'] & (occur_dict['java'] | occur_dict['ruby'])\n",
    "my_write('python_java_ruby.txt', [sent_list[i] for i in test_lines])"
   ]
  },
  {
   "source": [
    "Analyze the sentences with OLLIE, Stanford OpenIE or OpenIE5"
   ],
   "cell_type": "markdown",
   "metadata": {}
  },
  {
   "cell_type": "code",
   "execution_count": null,
   "metadata": {},
   "outputs": [],
   "source": [
    "openie_data = my_read('../data/temp/pl_wiki_ollie_triple.txt')\n",
    "# openie_data = my_read('pjr_ollie_triple.txt')\n",
    "# keywords = set(['data structure', 'binary tree', 'hash table', 'linked list'])\n",
    "keywords = set(['programming language', 'python', 'java', 'javascript', 'lua', 'scala', 'lisp', 'php', 'ruby', 'smalltalk'])\n",
    "# keywords = set(['python', 'java', 'ruby'])\n",
    "\n",
    "qualified_triples = []\n",
    "for data in openie_data:\n",
    "    if data:\n",
    "        arg1, rel, arg2 = data.split(';')\n",
    "        for kw in keywords:\n",
    "            if kw in arg1:\n",
    "                for kw in keywords:\n",
    "                    if kw in arg2:\n",
    "                        qualified_triples.append(data)\n",
    "                        break\n",
    "                break\n",
    "my_write('pl_wiki_ollie_triple_f.txt', qualified_triples)"
   ]
  },
  {
   "cell_type": "code",
   "execution_count": null,
   "metadata": {},
   "outputs": [],
   "source": [
    "data_structure_idx = occur_dict['data structure']"
   ]
  },
  {
   "cell_type": "code",
   "execution_count": null,
   "metadata": {},
   "outputs": [],
   "source": [
    "co_occur_set = {}\n",
    "for keyword, idx_set in occur_dict.items():\n",
    "    intersection = idx_set & data_structure_idx\n",
    "    if intersection:\n",
    "        co_occur_set[keyword] = list(intersection)"
   ]
  },
  {
   "cell_type": "code",
   "execution_count": null,
   "metadata": {},
   "outputs": [],
   "source": [
    "len(co_occur_set)"
   ]
  },
  {
   "cell_type": "code",
   "execution_count": null,
   "metadata": {},
   "outputs": [],
   "source": [
    "sorted_co_occur_list = sorted(co_occur_set.items(), key=lambda x: len(x[1]), reverse=True)[:100]\n",
    "sorted_co_occur_count = [(word, len(idx)) for word, idx in sorted_co_occur_list]"
   ]
  },
  {
   "cell_type": "code",
   "execution_count": null,
   "metadata": {},
   "outputs": [],
   "source": [
    "sorted_co_occur_count[:40]"
   ]
  },
  {
   "cell_type": "code",
   "execution_count": null,
   "metadata": {},
   "outputs": [],
   "source": [
    "\n",
    "'b-tree' in co_occur_set"
   ]
  },
  {
   "cell_type": "code",
   "execution_count": null,
   "metadata": {},
   "outputs": [],
   "source": [
    "# sent_list[co_occur_set['b-tree'][0]]\n",
    "temp_list = [sent_list[idx] for idx in co_occur_set['b-tree']]\n",
    "my_write('ds_bt_sent.txt', temp_list)"
   ]
  }
 ]
}