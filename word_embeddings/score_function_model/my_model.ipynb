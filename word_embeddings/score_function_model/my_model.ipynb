{
 "metadata": {
  "language_info": {
   "codemirror_mode": {
    "name": "ipython",
    "version": 3
   },
   "file_extension": ".py",
   "mimetype": "text/x-python",
   "name": "python",
   "nbconvert_exporter": "python",
   "pygments_lexer": "ipython3",
   "version": 3
  },
  "orig_nbformat": 2
 },
 "nbformat": 4,
 "nbformat_minor": 2,
 "cells": [
  {
   "cell_type": "code",
   "execution_count": null,
   "metadata": {},
   "outputs": [],
   "source": [
    "import torch\n",
    "from torch.nn import Module, Dropout, ReLU, Embedding, Sequential, Linear\n",
    "from torch.nn.functional import normalize\n",
    "from torch.utils.data import Dataset, DataLoader, random_split\n",
    "\n",
    "from sklearn.metrics import accuracy_score\n",
    "import pandas as pd\n",
    "import numpy as np\n",
    "from typing import Tuple, List\n",
    "\n",
    "from torchtext import data\n",
    "from torchtext.vocab import Vectors\n",
    "from torch.nn import init\n",
    "from tqdm import tqdm"
   ]
  },
  {
   "cell_type": "code",
   "execution_count": null,
   "metadata": {},
   "outputs": [],
   "source": [
    "def create_fields():\n",
    "    path_field = data.Field(sequential=True, tokenize=lambda x: x.split(), lower=True, fix_length=10)\n",
    "    entity_field = data.Field(sequential=False)\n",
    "    return path_field, entity_field\n",
    "\n",
    "class MyDataset(data.Dataset):\n",
    "    def __init__(self, corpus_path:str, path_field:data.Field, entity_field:data.Field, test:bool=False, **kwargs):\n",
    "        \n",
    "        fields = [('id', None), ('path', path_field), ('subjs', entity_field), ('objs', entity_field)]\n",
    "        corpus_data = pd.read_csv(corpus_path)\n",
    "\n",
    "        if test:\n",
    "            examples = [data.Example.fromlist([None, text, None, None], fields=fields) for text in tqdm(corpus_data['path'])]\n",
    "        else:\n",
    "            examples = [data.Example.fromlist([None, path, subj, obj], fields=fields) for path, subj, obj in tqdm(zip(corpus_data['path'], corpus_data('subj'), corpus_data['obj']))]\n",
    "        super(MyDataset, self).__init__(examples=examples, fields=fields, **kwargs)\n",
    "\n"
   ]
  },
  {
   "cell_type": "code",
   "execution_count": null,
   "metadata": {},
   "outputs": [],
   "source": [
    "path_field, entity_field = create_fields()\n",
    "train_data = MyDataset('dataset.csv', path_field=path_field, entity_field=entity_field, test=False)"
   ]
  },
  {
   "cell_type": "code",
   "execution_count": null,
   "metadata": {},
   "outputs": [],
   "source": [
    "path_field.build_vocab(train_data)\n",
    "entity_field.build_vocab(train_data)\n",
    "train_iter, val_iter = data.BucketIterator.splits((train_data, valid_data), batch_sizes=(8, 8), device=-1, sort_key=lambda x: len(x.path_field), sort_within_batch=True, repeat=False)\n"
   ]
  }
 ]
}