{
 "metadata": {
  "language_info": {
   "codemirror_mode": {
    "name": "ipython",
    "version": 3
   },
   "file_extension": ".py",
   "mimetype": "text/x-python",
   "name": "python",
   "nbconvert_exporter": "python",
   "pygments_lexer": "ipython3",
   "version": 3
  },
  "orig_nbformat": 2
 },
 "nbformat": 4,
 "nbformat_minor": 2,
 "cells": [
  {
   "cell_type": "code",
   "execution_count": null,
   "metadata": {},
   "outputs": [],
   "source": [
    "# Import libraries and define global variables\n",
    "import torch\n",
    "from torch import nn, optim\n",
    "from torch.nn.functional import cross_entropy, normalize\n",
    "from torch.utils.data import Dataset, DataLoader, random_split\n",
    "\n",
    "from sklearn.metrics import accuracy_score\n",
    "import pandas as pd\n",
    "import numpy as np\n",
    "from typing import Tuple, List\n",
    "\n",
    "model_name = 'bert-base-uncased'\n",
    "raw_data = pd.read_csv('drive/MyDrive/Colab Notebooks/CS412/data/train.csv')"
   ]
  },
  {
   "cell_type": "code",
   "execution_count": null,
   "metadata": {},
   "outputs": [],
   "source": [
    "# Define classes\n",
    "class DataToDataset(Dataset):\n",
    "    def __init__(self, depPath:List[str], pair:List[Tuple[str, str]]):\n",
    "        self.depPath = depPath\n",
    "        self.pair = pair\n",
    "\n",
    "    def __len__(self):\n",
    "        return len(self.labels)\n",
    "    \n",
    "    def __getitem__(self, index):\n",
    "        return self.depPath[index], self.pair[index]\n",
    "\n",
    "class PairEncoder(nn.Module):\n",
    "    def __init__(self, config):\n",
    "        super(PairEncoder, self).__init__()\n",
    "        self.dropout = nn.Dropout(p=config.dropout)\n",
    "        self.nonlinearity  = nn.ReLU()\n",
    "        self.normalize = normalize if getattr(config, 'normalize_args', False) else (lambda x : x)\n",
    "        self.arg_emb = nn.Embedding()\n",
    "        \n",
    "        self.pairEncoder = nn.Sequential(\n",
    "            self.dropout, \n",
    "            nn.Linear(3 * config.d_args, config.d_args), \n",
    "            self.nonlinearity, \n",
    "            self.dropout, \n",
    "            nn.Linear(config.d_args, config.d_args), \n",
    "            self.nonlinearity, \n",
    "            self.dropout, \n",
    "            nn.Linear(config.d_args, config.d_args), \n",
    "            self.nonlinearity, \n",
    "            self.dropout, \n",
    "            nn.Linear(config.d_args, config.d_rels)\n",
    "        )\n",
    "        else:\n",
    "            raise NotImplementedError()\n",
    "\n",
    "    def forward(self, subjects:torch.Tensor, objects:torch.Tensor):\n",
    "        subjects = self.normalize(subjects)\n",
    "        objects = self.normalize(objects)\n",
    "        return self.pairEncoder(torch.cat([subjects, objects, subjects * objects], dim=-1))\n",
    "\n",
    "class PathEncoder(nn.Module):\n",
    "    def __init__(self, config):\n",
    "        super(PathEncoder, self).__init__()\n",
    "\n"
   ]
  }
 ]
}