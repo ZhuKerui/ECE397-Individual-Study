{
 "metadata": {
  "language_info": {
   "codemirror_mode": {
    "name": "ipython",
    "version": 3
   },
   "file_extension": ".py",
   "mimetype": "text/x-python",
   "name": "python",
   "nbconvert_exporter": "python",
   "pygments_lexer": "ipython3",
   "version": "3.6.9"
  },
  "orig_nbformat": 2,
  "kernelspec": {
   "name": "python369jvsc74a57bd0947ccf1d8baae4b0b3c7136017192ad9c9ad48a2268b8759d45f6c7f995c7f83",
   "display_name": "Python 3.6.9 64-bit ('imojie_env': virtualenvwrapper)"
  }
 },
 "nbformat": 4,
 "nbformat_minor": 2,
 "cells": [
  {
   "cell_type": "code",
   "execution_count": 1,
   "metadata": {},
   "outputs": [],
   "source": [
    "import torch\n",
    "from torch.nn import Module, Dropout, ReLU, Embedding, Sequential, Linear\n",
    "from torch.nn.functional import normalize\n",
    "from torch.utils.data import Dataset, DataLoader, random_split\n",
    "\n",
    "from sklearn.metrics import accuracy_score\n",
    "import pandas as pd\n",
    "import numpy as np\n",
    "from typing import Tuple, List\n",
    "\n",
    "from torchtext import data\n",
    "from torchtext.vocab import Vectors\n",
    "from torch.nn import init\n",
    "from tqdm import tqdm"
   ]
  },
  {
   "cell_type": "code",
   "execution_count": 19,
   "metadata": {},
   "outputs": [],
   "source": [
    "def create_fields():\n",
    "    path_field = data.Field(sequential=True, tokenize=lambda x: x.split(), lower=True, fix_length=10)\n",
    "    entity_field = data.Field(sequential=False)\n",
    "    return path_field, entity_field\n",
    "\n",
    "class MyDataset(data.Dataset):\n",
    "    def __init__(self, corpus_path:str, path_field:data.Field, entity_field:data.Field, test:bool=False, **kwargs):\n",
    "        \n",
    "        fields = [('id', None), ('path', path_field), ('subjs', entity_field), ('objs', entity_field)]\n",
    "        corpus_data = pd.read_csv(corpus_path)\n",
    "\n",
    "        if test:\n",
    "            examples = [data.Example.fromlist([None, text, None, None], fields=fields) for text in tqdm(corpus_data['path'])]\n",
    "        else:\n",
    "            examples = [data.Example.fromlist([None, path, subj, obj], fields=fields) for path, subj, obj in tqdm(zip(corpus_data['path'], corpus_data['subj'], corpus_data['obj']))]\n",
    "        super(MyDataset, self).__init__(examples=examples, fields=fields, **kwargs)\n",
    "\n"
   ]
  },
  {
   "cell_type": "code",
   "execution_count": 16,
   "metadata": {},
   "outputs": [],
   "source": [
    "df = pd.read_csv('../data/corpus/dataset.csv')\n",
    "df = df.sample(frac=1).reset_index(drop=True)\n",
    "total_num = len(df)\n",
    "train_df = df[:int(total_num*0.8)]\n",
    "valid_df = df[int(total_num*0.8):]\n",
    "train_df.to_csv('../data/corpus/train.csv')\n",
    "valid_df.to_csv('../data/corpus/valid.csv')"
   ]
  },
  {
   "cell_type": "code",
   "execution_count": 20,
   "metadata": {},
   "outputs": [
    {
     "output_type": "stream",
     "name": "stderr",
     "text": [
      "0it [00:00, ?it/s]/home/keruiz2/Envs/imojie_env/lib/python3.6/site-packages/torchtext/data/example.py:78: UserWarning: Example class will be retired soon and moved to torchtext.legacy. Please see the most recent release notes for further information.\n",
      "  warnings.warn('Example class will be retired soon and moved to torchtext.legacy. Please see the most recent release notes for further information.', UserWarning)\n",
      "689292it [00:07, 93436.13it/s] \n",
      "172324it [00:02, 84563.39it/s] \n"
     ]
    }
   ],
   "source": [
    "path_field, entity_field = create_fields()\n",
    "train_data = MyDataset('../data/corpus/train.csv', path_field=path_field, entity_field=entity_field, test=False)\n",
    "valid_data = MyDataset('../data/corpus/valid.csv', path_field=path_field, entity_field=entity_field, test=False)"
   ]
  },
  {
   "cell_type": "code",
   "execution_count": 21,
   "metadata": {},
   "outputs": [
    {
     "output_type": "stream",
     "name": "stderr",
     "text": [
      "/home/keruiz2/Envs/imojie_env/lib/python3.6/site-packages/torchtext/data/iterator.py:48: UserWarning: BucketIterator class will be retired soon and moved to torchtext.legacy. Please see the most recent release notes for further information.\n  warnings.warn('{} class will be retired soon and moved to torchtext.legacy. Please see the most recent release notes for further information.'.format(self.__class__.__name__), UserWarning)\n"
     ]
    }
   ],
   "source": [
    "path_field.build_vocab(train_data)\n",
    "entity_field.build_vocab(train_data)\n",
    "train_iter, val_iter = data.BucketIterator.splits((train_data, valid_data), batch_sizes=(32, 32), device=torch.device(\"cuda\" if torch.cuda.is_available() else \"cpu\"), sort_key=lambda x: len(x.path_field), sort_within_batch=True, repeat=False)\n"
   ]
  },
  {
   "cell_type": "code",
   "execution_count": 23,
   "metadata": {},
   "outputs": [
    {
     "output_type": "execute_result",
     "data": {
      "text/plain": [
       "31604"
      ]
     },
     "metadata": {},
     "execution_count": 23
    }
   ],
   "source": [
    "len(entity_field.vocab)"
   ]
  }
 ]
}